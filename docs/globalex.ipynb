{
 "cells": [
  {
   "attachments": {},
   "cell_type": "markdown",
   "metadata": {},
   "source": [
    "# GolbalEx Co."
   ]
  },
  {
   "attachments": {},
   "cell_type": "markdown",
   "metadata": {},
   "source": [
    "## Formulation"
   ]
  },
  {
   "attachments": {},
   "cell_type": "markdown",
   "metadata": {},
   "source": [
    "### Input Data Model\n",
    "\n",
    "#### Set of Indices\n",
    "\n",
    "* $I$ - set of available currencies to be traded.\n",
    "* $K_{ij}$ - list of breakpoints' IDs for fees regarding exchange of currency $i$ per currency $j$. \n",
    "\n",
    "#### Parameters\n",
    "\n",
    "* $r_{ij}$ - exchange rate of currency $i$ by currency $j$, given in (unit of currency $j$)/(unit of currency $i$)\n",
    "* $dl_{i}$ - amount required to satisfy the requirements (quantity to be bought or sold) of currency $i$.\n",
    "* $f_{ij}$ - _national fee rate_ (depending on the base country) paid for exchanging currency $i$ per currency $j$ (units of currency $i$).\n",
    "* $bx_{ijk}$ - number of units of currency $i$ that defines the breakpoint $k \\in K_{i}$.\n",
    "* $by_{ijk}$ - breakpoint value fo the _international fee_ (depending on the base _and_ target country) of breakpoint $k \\in K_{i}$ when exchanging currency $i$ by $j$.\n",
    "* $du_i$ - max surplus accepted for currency $i$ \n",
    "* $b_i$ - initial balance of the currency $i$ (before any transactions), given in units of $i$.\n",
    "\n",
    "#### Decision Variables\n",
    "\n",
    "* $x_{ij}$ - amount of currency $i$ converted in currency $j$, given in units of currency $i$.\n",
    "* $y_{ij}$ - total fee paid to the bank for exchanging currency $i$ per currency $j$ (unit of currency $i$).\n",
    "* $z_{ijk}$ - equals 1 if the amount of currency $i$ to be traded by currency $j$ falls  into amount tier $k$.\n",
    "* $w_{ijk}$ - weight of breakpoint $k \\in K_i$ (continuous, in [0,1])\n",
    "\n",
    "\n",
    "#### Constraints\n",
    "\n",
    "* C1) Amount of currency $i$ exchanged by currency $j$ as a weighted combination of the break points\n",
    "    $$ x_{ij} = \\sum_{k \\in K_{ij}} bx_{ijk} w_{ijk}, \\quad \\forall i, j $$\n",
    "\n",
    "* C2) Total fee paid for exchanging currency $i$ per currency $j$\n",
    "    $$ y_{ij} = x_{ij} f_{ij} + \\sum_{k \\in K_{ij}} by_{ijk} w_{ijk}, \\quad \\forall i, j $$\n",
    "\n",
    "* C3) Flow of traded currencies must satisfy the demands of currency $i$.\n",
    "\n",
    "    $$ \\sum_{j \\in I} (x_{ji} - y_{ji}) \\cdot r_{ji} -\\sum_{j \\in I}x_{ij} + b_i \\geq dl_{i}, \\quad \\forall i  $$\n",
    "\n",
    "* C4) Max amount of currency $i$ must be below max surplus\n",
    "\n",
    "    $$ \\sum_j (x_{ji} - y_{ji}) \\cdot r_{ji} - \\sum_j x_{ij} + b_i \\leq du_{i}, \\quad \\forall i  $$\n",
    "\n",
    "\n",
    "* C5) Weights add up to 1:\n",
    "    $$ \\sum_{k \\in K_{ij}} w_{ijk} = 1, \\quad \\forall i,j $$\n",
    "\n",
    "* C6) The weights associated with the extremes of tier $k$ are non-zero only if the amount of currency $i$ falls into tier $k$  \n",
    "\n",
    "    \\begin{align}\n",
    "        w_{ij0} &\\leq z_{ij1}, &\\forall i,j,\\\\\n",
    "        w_{ijk} &\\leq z_{ijk} + z_{ijk+1}, \\quad &\\forall i,j,0<k<|K_{ij}|,\\\\\n",
    "        w_{ij|K_{ij}|} &\\leq z_{ij|K_{ij}|}, &\\forall i,j.\n",
    "    \\end{align}\n",
    "\n",
    "\n",
    "#### Objective\n",
    "\n",
    "The objective is to minimize the amount (dollar equivalent) paid in fees when satisfying the requirements.\n",
    "    $$ \\text{min} \\sum_{ij}y_{ij}r_{im}, \\quad m \\equiv \\text{USD}    $$\n",
    "\n"
   ]
  },
  {
   "cell_type": "markdown",
   "metadata": {},
   "source": []
  }
 ],
 "metadata": {
  "kernelspec": {
   "display_name": ".venv",
   "language": "python",
   "name": "python3"
  },
  "language_info": {
   "name": "python",
   "version": "3.10.9"
  },
  "orig_nbformat": 4,
  "vscode": {
   "interpreter": {
    "hash": "7a1e7ac583e55e8b893b6644b103c883331c06c0947af749b24884ca040fd3a5"
   }
  }
 },
 "nbformat": 4,
 "nbformat_minor": 2
}
